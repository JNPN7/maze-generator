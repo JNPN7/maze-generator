{
 "cells": [
  {
   "cell_type": "markdown",
   "metadata": {},
   "source": []
  },
  {
   "cell_type": "code",
   "execution_count": 67,
   "metadata": {},
   "outputs": [],
   "source": [
    "import matplotlib.pyplot as plt\n",
    "from random import randint\n",
    "INF = 999999"
   ]
  },
  {
   "cell_type": "code",
   "execution_count": 68,
   "metadata": {},
   "outputs": [
    {
     "data": {
      "image/png": "[encoded data removed]",
      "text/plain": [
       "<Figure size 640x480 with 1 Axes>"
      ]
     },
     "metadata": {},
     "output_type": "display_data"
    }
   ],
   "source": [
    "plt.plot([1, 2], [2, 2], [3, 4], [5, 5])\n",
    "\n",
    "plt.show()"
   ]
  },
  {
   "cell_type": "markdown",
   "metadata": {},
   "source": [
    "# Global variable"
   ]
  },
  {
   "cell_type": "code",
   "execution_count": 69,
   "metadata": {},
   "outputs": [],
   "source": [
    "width = 30\n",
    "height = 30 "
   ]
  },
  {
   "cell_type": "code",
   "execution_count": 70,
   "metadata": {},
   "outputs": [],
   "source": [
    "edge_hor = [[randint(0, 1) for i in range(width-1)] for i in range(height)]\n",
    "edge_ver = [[randint(0, 1) for i in range(width)] for i in range(height-1)]\n",
    "\n",
    "# edge_hor, edge_ver\n"
   ]
  },
  {
   "cell_type": "markdown",
   "metadata": {},
   "source": [
    "# Graphical visulaization"
   ]
  },
  {
   "cell_type": "code",
   "execution_count": 71,
   "metadata": {},
   "outputs": [],
   "source": [
    "def graphics(edge_hor, edge_ver):\n",
    "    tree_list = []\n",
    "    for i, edges in enumerate(edge_hor):\n",
    "        for j, edge in enumerate(edges):\n",
    "            if edge == 1:\n",
    "                tree_list.extend(([j+1, j+2], [height-i, height-i]))\n",
    "\n",
    "    for i, edges in enumerate(edge_ver):\n",
    "        for j, edge in enumerate(edges):\n",
    "            if edge == 1:\n",
    "                tree_list.extend(([j+1, j+1], [height-i, height-i-1]))\n",
    "    for i in range(0, len(tree_list), 2):\n",
    "        plt.plot(tree_list[i], tree_list[i+1], 'b')\n",
    "    \n",
    "    # plot style\n",
    "    plt.xticks([])\n",
    "    plt.yticks([])\n",
    "    plt.show()"
   ]
  },
  {
   "cell_type": "code",
   "execution_count": 72,
   "metadata": {},
   "outputs": [],
   "source": [
    "vertices = [[i for i in range(j, j+width)] for j in range(0, width*height, width)]\n",
    "# vertices"
   ]
  },
  {
   "cell_type": "code",
   "execution_count": 73,
   "metadata": {},
   "outputs": [],
   "source": [
    "edge_hor = [[randint(0, 99) for i in range(width-1)] for i in range(height)]\n",
    "edge_ver = [[randint(0, 99) for i in range(width)] for i in range(height-1)]\n",
    "\n",
    "# edge_hor, edge_ver "
   ]
  },
  {
   "cell_type": "code",
   "execution_count": 74,
   "metadata": {},
   "outputs": [],
   "source": [
    "max_edge = width*height - 1\n",
    "\n",
    "edge_hor_result = [[0 for j in range(width-1)] for i in range(height)]\n",
    "edge_ver_result = [[0 for j in range(width)] for i in range(height-1)]"
   ]
  },
  {
   "cell_type": "markdown",
   "metadata": {},
   "source": [
    "# Spanning tree\n",
    "\n",
    "Not working"
   ]
  },
  {
   "cell_type": "code",
   "execution_count": 75,
   "metadata": {},
   "outputs": [],
   "source": [
    "visited_veritces = []\n",
    "visited_veritces.append(vertices[0][0])\n",
    "x, y = 0, 0\n",
    "x_temp, y_temp = 0, 0\n",
    "shifted = 0\n",
    "while len(visited_veritces) < max_edge:\n",
    "# for j in range(40):\n",
    "   for i in range(max_edge):\n",
    "      min = INF\n",
    "      x_temp, y_temp = x, y\n",
    "      # surrounding = 0\n",
    "      # if x-1 < 0 or vertices[x-1][y] in visited_veritces:\n",
    "      #    surrounding += 1\n",
    "      # if x >= height-1 or vertices[x+1][y] in visited_veritces:\n",
    "      #    surrounding += 1\n",
    "      # if y-1 < 0 or vertices[x][y-1] in visited_veritces:\n",
    "      #    surrounding += 1\n",
    "      # # print(x, y+1)\n",
    "      # if y >= width-1 or vertices[x][y+1] in visited_veritces:\n",
    "      #    surrounding += 1\n",
    "\n",
    "      # print(\"surrounding == \", surrounding)\n",
    "      # print(\"vertices == \", x, y)\n",
    "      \n",
    "        \n",
    "      if (x-1 >= 0) and edge_ver[x-1][y] < min and vertices[x-1][y] not in visited_veritces:\n",
    "         # print(\"t\")\n",
    "         y_temp = y\n",
    "         x_temp = x-1  \n",
    "         min = edge_ver[x-1][y]\n",
    "      if (x < height-1) and edge_ver[x][y] < min and vertices[x+1][y] not in visited_veritces:\n",
    "         # print(\"b  \", edge_ver[x][y])\n",
    "         y_temp = y\n",
    "         x_temp = x+1\n",
    "         min = edge_ver[x][y]\n",
    "         # print(\"bottom\",vertices[x+1][y])\n",
    "      if (y-1 >= 0) and edge_hor[x][y-1] < min and vertices[x][y-1] not in visited_veritces:\n",
    "         # print(\"l\")\n",
    "         y_temp = y-1\n",
    "         x_temp = x\n",
    "         min = edge_hor[x][y-1]\n",
    "      if (y < width-1) and edge_hor[x][y] < min and vertices[x][y+1] not in visited_veritces:\n",
    "         # print(\"r  \", edge_hor[x][y])\n",
    "         y_temp = y+1\n",
    "         x_temp = x\n",
    "         min = edge_hor[x][y]\n",
    "\n",
    "      if True:\n",
    "         # print(x, y)\n",
    "         # print(x_temp, y_temp)\n",
    "         if shifted > 0:\n",
    "            shifted = 0\n",
    "            if vertices[x-1][y] in visited_veritces:\n",
    "               # print(f\"vertex: {x}, {y}, \\t connected {x-1}, {y}\")\n",
    "               edge_ver_result[x-1][y] = 1\n",
    "            elif vertices[x+1][y] in visited_veritces:\n",
    "               # print(f\"vertex: {x}, {y}, \\t connected {x+1}, {y}\")\n",
    "               edge_ver_result[x][y] = 1\n",
    "            elif vertices[x][y-1] in visited_veritces:\n",
    "               # print(f\"vertex: {x}, {y}, \\t connected {x}, {y-1}\")\n",
    "               edge_hor_result[x][y-1] = 1\n",
    "            elif vertices[x][y+1] in visited_veritces:\n",
    "               # print(f\"vertex: {x}, {y}, \\t connected {x}, {y+1}\")\n",
    "               edge_hor_result[x][y] = 1\n",
    "            else: \n",
    "               print(\"error error\")\n",
    "\n",
    "\n",
    "         if vertices[x][y] not in visited_veritces:\n",
    "            # print(\"surrounding::::::\", vertices[x][y])\n",
    "            visited_veritces.append(vertices[x][y])\n",
    "\n",
    "      if x == x_temp and y == y_temp:\n",
    "         break\n",
    "\n",
    "      # print(vertices[x_temp][y_temp], x_temp, y_temp)\n",
    "      if x == x_temp:\n",
    "         if y == y_temp+1:\n",
    "            edge_hor_result[x][y-1] = 1\n",
    "         else:\n",
    "            edge_hor_result[x][y] = 1\n",
    "      if y == y_temp:\n",
    "         if x == x_temp+1:\n",
    "            edge_ver_result[x-1][y] = 1\n",
    "         else:\n",
    "            edge_ver_result[x][y] = 1\n",
    "\n",
    "      x, y = x_temp, y_temp\n",
    "      \n",
    "      visited_veritces.append(vertices[x_temp][y_temp])\n",
    "   \n",
    "   for i in range(height):\n",
    "      a = 0\n",
    "      for j in range(width):\n",
    "         if vertices[i][j] not in visited_veritces:\n",
    "            if vertices[i-1][j] in visited_veritces:\n",
    "               x, y = i, j\n",
    "               shifted = 1\n",
    "               a = 1\n",
    "               break\n",
    "            elif vertices[i+1][j] in visited_veritces:\n",
    "               x, y = i, j\n",
    "               shifted = 1\n",
    "               a = 1\n",
    "               break\n",
    "            elif vertices[i][j-1] in visited_veritces:\n",
    "               x, y = i, j\n",
    "               shifted = 1\n",
    "               a = 1\n",
    "               break\n",
    "            elif vertices[i][j+1] in visited_veritces:\n",
    "               x, y = i, j\n",
    "               shifted = 1\n",
    "               a = 1\n",
    "               break\n",
    "      if a == 1:\n",
    "         break\n",
    "   "
   ]
  },
  {
   "cell_type": "code",
   "execution_count": 76,
   "metadata": {},
   "outputs": [
    {
     "data": {
      "image/png": "[encoded data removed]",
      "text/plain": [
       "<Figure size 640x480 with 1 Axes>"
      ]
     },
     "metadata": {},
     "output_type": "display_data"
    }
   ],
   "source": [
    "graphics(edge_hor= edge_hor_result, edge_ver= edge_ver_result)"
   ]
  },
  {
   "cell_type": "code",
   "execution_count": 77,
   "metadata": {},
   "outputs": [],
   "source": [
    "visited_veritces.sort()\n",
    "# print(visited_veritces)"
   ]
  },
  {
   "cell_type": "code",
   "execution_count": 78,
   "metadata": {},
   "outputs": [],
   "source": [
    "ver = [\n",
    "    [1, 0, 0, 1, 0, 1],\n",
    "    [1, 0, 1, 0, 0, 1],\n",
    "    [1, 0, 1, 0, 0, 1]\n",
    "]\n",
    "hor = [\n",
    "    [1, 1, 1, 1 ,1],\n",
    "    [1, 1, 0, 0, 1],\n",
    "    [1, 0, 0, 1, 1]\n",
    "]\n",
    "# graphics(edge_hor= hor, edge_ver= ver)"
   ]
  },
  {
   "cell_type": "code",
   "execution_count": 79,
   "metadata": {},
   "outputs": [],
   "source": [
    "ver = edge_ver_result\n",
    "hor = edge_hor_result\n",
    "ver = list(map(lambda v: list(map(lambda x: 0 if x == 1 else 1, v)), ver))\n",
    "hor = list(map(lambda v: list(map(lambda x: 0 if x == 1 else 1, v)), hor))\n",
    "\n",
    "# ver, hor"
   ]
  },
  {
   "cell_type": "code",
   "execution_count": 80,
   "metadata": {},
   "outputs": [
    {
     "data": {
      "image/png": "[encoded data removed]",
      "text/plain": [
       "<Figure size 640x480 with 1 Axes>"
      ]
     },
     "metadata": {},
     "output_type": "display_data"
    }
   ],
   "source": [
    "boundary_start = [0 if i==width//3 else 1 for i in range(width)]\n",
    "boundary_end = [0 if i==width - width//3 else 1 for i in range(width)]\n",
    "ver.insert(0, boundary_start)\n",
    "ver.append(boundary_end)\n",
    "hor_temp = []\n",
    "\n",
    "for h in hor:\n",
    "    h.insert(0, 1)\n",
    "    h.append(1)\n",
    "    hor_temp.append(h)\n",
    "\n",
    "# hor = list(map(lambda h: h.insert(0, 1), hor))\n",
    "# hor = list(map(lambda h: h.append(1), hor))\n",
    "graphics(edge_hor=ver, edge_ver=hor_temp)"
   ]
  },
  {
   "cell_type": "code",
   "execution_count": null,
   "metadata": {},
   "outputs": [],
   "source": []
  }
 ],
 "metadata": {
  "kernelspec": {
   "display_name": "Python 3.8.13 ('voice_auth')",
   "language": "python",
   "name": "python3"
  },
  "language_info": {
   "codemirror_mode": {
    "name": "ipython",
    "version": 3
   },
   "file_extension": ".py",
   "mimetype": "text/x-python",
   "name": "python",
   "nbconvert_exporter": "python",
   "pygments_lexer": "ipython3",
   "version": "3.8.14"
  },
  "orig_nbformat": 4,
  "vscode": {
   "interpreter": {
    "hash": "09e1a4df5a33e82d639e73b299fb3502ab09637ebf2fff067409df417865f42a"
   }
  }
 },
 "nbformat": 4,
 "nbformat_minor": 2
}
